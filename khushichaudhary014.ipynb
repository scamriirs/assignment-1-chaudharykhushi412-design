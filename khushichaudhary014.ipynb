{
 "cells": [
  {
   "cell_type": "markdown",
   "id": "b5052e3b-814f-4305-8e20-1eee9d6ca47b",
   "metadata": {},
   "source": [
    "Question 1. \n",
    "You have a list numbers = [10, 20, 30, 40]. Write a program that checks if the first element of the list is greater than 25. Print \"First element is large\" if it is, and \"First element is small\" if it isn't.\r\n"
   ]
  },
  {
   "cell_type": "code",
   "execution_count": 1,
   "id": "e5e6c142-a734-4571-b6c1-fca51d373a8f",
   "metadata": {},
   "outputs": [
    {
     "name": "stdout",
     "output_type": "stream",
     "text": [
      " first element if small\n"
     ]
    }
   ],
   "source": [
    "list = [10,20,30,40]\n",
    "if (list[0]<25):\n",
    "    print(\" first element if small\")\n",
    "elif (list[0]>25):\n",
    "    print(\" first element is large\")\n",
    "else:\n",
    "    print(\"no element is large or small\")"
   ]
  },
  {
   "cell_type": "markdown",
   "id": "9b7cef73-22e4-4c77-a2d8-e98671540d68",
   "metadata": {},
   "source": [
    " Question 2. Given a list scores = [45, 67, 89, 92, 54, 31], write a program that creates a new list. For each score in the original list, if the score is greater than or equal to 50, add \"Pass\" to the new list. If it's less than 50, add \"Fail\"."
   ]
  },
  {
   "cell_type": "code",
   "execution_count": 5,
   "id": "cadb43ce-ae6c-4d5e-a8c3-84f91f2b1267",
   "metadata": {},
   "outputs": [
    {
     "name": "stdout",
     "output_type": "stream",
     "text": [
      "['fail', 'pass', 'pass', 'pass', 'pass', 'fail']\n"
     ]
    }
   ],
   "source": [
    "list = [45,67,89,92,54,31]\n",
    "new_list = []\n",
    "for i in list:\n",
    "    if (i < 50):\n",
    "        new_list.append(\"fail\")\n",
    "    elif(i >=50):\n",
    "        new_list.append(\"pass\")\n",
    "print(new_list)"
   ]
  },
  {
   "cell_type": "markdown",
   "id": "751aa9b0-ad82-42bc-9e1b-055a9a9e553a",
   "metadata": {},
   "source": [
    " Question 3. Ask the user to input their favorite fruit. Check if that fruit is in the predefined list fruits = ['apple', 'banana', 'mango', 'grape']. Print a message saying whether their fruit is on the list or not."
   ]
  },
  {
   "cell_type": "code",
   "execution_count": 1,
   "id": "97a293fd-e12a-466a-96a0-3fec4fb4831b",
   "metadata": {},
   "outputs": [
    {
     "name": "stdin",
     "output_type": "stream",
     "text": [
      "enter your fav fruits mango\n"
     ]
    },
    {
     "name": "stdout",
     "output_type": "stream",
     "text": [
      "fruit is on the list\n",
      "mango\n"
     ]
    }
   ],
   "source": [
    "fruits = ['apple','banana','mango','grape']\n",
    "fav = input(\"enter your fav fruits\")\n",
    "if fav in fruits:\n",
    "    print(\"fruit is on the list\")\n",
    "else:\n",
    "    print(\"fruit is not on the list\")\n",
    "print(fav)"
   ]
  },
  {
   "cell_type": "markdown",
   "id": "71191ef5-689b-4b62-a248-e27e4393e36a",
   "metadata": {},
   "source": [
    " Question 4. Given a list values = [1,-2,3,-4,5,6], write a program that calculates the sum of only the positive numbers in the list. Use a loop and an if statement."
   ]
  },
  {
   "cell_type": "code",
   "execution_count": 2,
   "id": "e7981c62-2549-4605-8981-f14a6e7d3a30",
   "metadata": {},
   "outputs": [
    {
     "name": "stdout",
     "output_type": "stream",
     "text": [
      "Sum of positive numbers: 15\n"
     ]
    }
   ],
   "source": [
    "list = [1,-2,3,-4,5,6]\n",
    "\n",
    "sum_positive = 0\n",
    "\n",
    "for num in list:   \n",
    "    if num > 0:      \n",
    "        sum_positive += num\n",
    "\n",
    "print(\"Sum of positive numbers:\", sum_positive)"
   ]
  },
  {
   "cell_type": "markdown",
   "id": "3a935c95-a470-4bdf-a0a1-ca02a06daf61",
   "metadata": {},
   "source": [
    " Question 5. You have a list data = [120, 330, 40, 550, 60]. Find the largest number in the list that is less than 500. Print the number. If no number is found, print \"No valid number found\"."
   ]
  },
  {
   "cell_type": "code",
   "execution_count": 5,
   "id": "9c3a867d-b1a3-439a-b657-81a24c3fb434",
   "metadata": {},
   "outputs": [
    {
     "name": "stdout",
     "output_type": "stream",
     "text": [
      "Largest number less than 500: 330\n"
     ]
    }
   ],
   "source": [
    "list = [120, 330, 40, 550, 60]\n",
    "\n",
    "largest = None  \n",
    "\n",
    "for num in list:\n",
    "    if num < 500:  \n",
    "        if largest is None or num > largest:  \n",
    "            largest = num\n",
    "\n",
    "if largest is not None:\n",
    "    print(\"Largest number less than 500:\", largest)\n",
    "else:\n",
    "    print(\"No valid number found\")"
   ]
  },
  {
   "cell_type": "markdown",
   "id": "b1b082d9-60e8-42b4-9807-46d85fb4120c",
   "metadata": {},
   "source": [
    " Question 6. Create a list mixed = [12, 'hello', 33, 'world', 7.5, 100]. Write a program that separates this list into two new lists: one for integers and one for strings. Ignore any other data types."
   ]
  },
  {
   "cell_type": "code",
   "execution_count": 8,
   "id": "b4a1e79f-a712-4c6c-81da-d3712e572796",
   "metadata": {},
   "outputs": [
    {
     "name": "stdout",
     "output_type": "stream",
     "text": [
      "Integers: [12, 33, 100]\n",
      "Strings: ['hello', 'world']\n"
     ]
    }
   ],
   "source": [
    "mixed = [12, 'hello', 33, 'world', 7.5, 100]\n",
    "\n",
    "integers = []  \n",
    "strings = []   \n",
    "for item in mixed:\n",
    "    if type(item) == int:       \n",
    "        integers.append(item)\n",
    "    elif type(item) == str:     \n",
    "        strings.append(item)\n",
    "\n",
    "print(\"Integers:\", integers)\n",
    "print(\"Strings:\", strings)"
   ]
  },
  {
   "cell_type": "markdown",
   "id": "72263981-339e-404c-a3b2-89ad6189a5a5",
   "metadata": {},
   "source": [
    " Question 7. Given a list my_list = [10, 20, 30, 40, 50] and an index provided by the user. Check if the index is valid for the list. If it is, check if the element at that index is even. Print \"Valid index, even number\", \"Valid index, odd number\", or \"Invalid index\" based on the checks."
   ]
  },
  {
   "cell_type": "code",
   "execution_count": 13,
   "id": "ea6befcd-1cd7-45c1-96a3-6d9c9d6a174c",
   "metadata": {},
   "outputs": [
    {
     "name": "stdin",
     "output_type": "stream",
     "text": [
      "Enter an index:  30\n"
     ]
    },
    {
     "name": "stdout",
     "output_type": "stream",
     "text": [
      "Invalid index\n"
     ]
    }
   ],
   "source": [
    "my_list = [10, 20, 30, 40, 50]\n",
    "\n",
    "index = int(input(\"Enter an index: \"))\n",
    "\n",
    "if 0 <= index < len(my_list):\n",
    "    element = my_list[index]\n",
    "    if element % 2 == 0:\n",
    "        print(\"Valid index, even number\")\n",
    "    else:\n",
    "        print(\"Valid index, odd number\")\n",
    "else:\n",
    "    print(\"Invalid index\")"
   ]
  },
  {
   "cell_type": "markdown",
   "id": "4e2d5f99-49bb-4e0d-abf8-c053360ff5b5",
   "metadata": {},
   "source": [
    " Question 8. You have a list temperatures = [25, 30, 105, 28, 16, -5, 99]. This list has some faulty readings (any temperature below 0 or above 100 is faulty). Create a new list that contains only the valid temperatures."
   ]
  },
  {
   "cell_type": "code",
   "execution_count": 16,
   "id": "f900a535-0e67-4261-9440-049c9377413d",
   "metadata": {},
   "outputs": [
    {
     "name": "stdout",
     "output_type": "stream",
     "text": [
      "[25, 30, 28, 16, 99]\n"
     ]
    }
   ],
   "source": [
    "temperature = [25,30,105,28,16,-5,99]\n",
    "valid_temperature = []\n",
    "\n",
    "for t in temperature:\n",
    "    if t>=0 and t<=100:\n",
    "        valid_temperature.append(t)\n",
    "\n",
    "print (valid_temperature)"
   ]
  },
  {
   "cell_type": "markdown",
   "id": "ab66a9b8-221a-4883-86d9-d2c8bd2099c2",
   "metadata": {},
   "source": [
    " Question 9. Create a list of names: names = ['Alice', 'Bob', 'Charlie', 'Diana']. Ask the user for a name to search for. If you find the name, print its position (index) in the list. If you don't find it, print \"Name not found\"."
   ]
  },
  {
   "cell_type": "code",
   "execution_count": 19,
   "id": "f0f41c31-92eb-4b95-b101-2e604653238a",
   "metadata": {},
   "outputs": [
    {
     "name": "stdin",
     "output_type": "stream",
     "text": [
      "enter the name to search Charlie\n"
     ]
    },
    {
     "name": "stdout",
     "output_type": "stream",
     "text": [
      "name found at index: 2\n"
     ]
    }
   ],
   "source": [
    "names = ['Alice','Bob','Charlie','Diana']\n",
    "search_name = input(\"enter the name to search\")\n",
    "\n",
    "if search_name in names:\n",
    "    print(\"name found at index:\",names.index(search_name))\n",
    "else:\n",
    "    print(\"name not found\")"
   ]
  },
  {
   "cell_type": "markdown",
   "id": "ed030ce4-11eb-4c7a-b63f-90adbae1d38b",
   "metadata": {},
   "source": [
    " Question 10. Given a list numbers = [15, 7, 22, 9, 36, 12, 18], write a program that finds and prints all numbers in the list that are both greater than 10 and divisible by 3."
   ]
  },
  {
   "cell_type": "code",
   "execution_count": 22,
   "id": "062c056e-75e7-43e7-a413-8eb80fe91e1d",
   "metadata": {},
   "outputs": [
    {
     "name": "stdout",
     "output_type": "stream",
     "text": [
      "15\n",
      "36\n",
      "12\n",
      "18\n"
     ]
    }
   ],
   "source": [
    "numbers = [15,7,22,9,36,12,18]\n",
    "\n",
    "for num in numbers:\n",
    "    if num>10 and num%3==0:\n",
    "        print(num)"
   ]
  },
  {
   "cell_type": "code",
   "execution_count": null,
   "id": "c914c460-a00e-41c9-b13a-14a650e792a7",
   "metadata": {},
   "outputs": [],
   "source": []
  }
 ],
 "metadata": {
  "kernelspec": {
   "display_name": "Python [conda env:base] *",
   "language": "python",
   "name": "conda-base-py"
  },
  "language_info": {
   "codemirror_mode": {
    "name": "ipython",
    "version": 3
   },
   "file_extension": ".py",
   "mimetype": "text/x-python",
   "name": "python",
   "nbconvert_exporter": "python",
   "pygments_lexer": "ipython3",
   "version": "3.12.7"
  }
 },
 "nbformat": 4,
 "nbformat_minor": 5
}
